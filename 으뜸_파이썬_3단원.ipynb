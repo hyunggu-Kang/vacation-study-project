{
  "nbformat": 4,
  "nbformat_minor": 0,
  "metadata": {
    "colab": {
      "provenance": [],
      "authorship_tag": "ABX9TyNuWOYbLv25tvAVZeeXOqow",
      "include_colab_link": true
    },
    "kernelspec": {
      "name": "python3",
      "display_name": "Python 3"
    },
    "language_info": {
      "name": "python"
    }
  },
  "cells": [
    {
      "cell_type": "markdown",
      "metadata": {
        "id": "view-in-github",
        "colab_type": "text"
      },
      "source": [
        "<a href=\"https://colab.research.google.com/github/hyunggu-Kang/vacation-study-project/blob/main/%EC%9C%BC%EB%9C%B8_%ED%8C%8C%EC%9D%B4%EC%8D%AC_3%EB%8B%A8%EC%9B%90.ipynb\" target=\"_parent\"><img src=\"https://colab.research.google.com/assets/colab-badge.svg\" alt=\"Open In Colab\"/></a>"
      ]
    },
    {
      "cell_type": "code",
      "execution_count": 1,
      "metadata": {
        "colab": {
          "base_uri": "https://localhost:8080/"
        },
        "id": "vECphsnKn9tn",
        "outputId": "40043945-47a8-4f5f-a80f-8cf2a571ee0c"
      },
      "outputs": [
        {
          "output_type": "stream",
          "name": "stdout",
          "text": [
            "청소년 할인\n"
          ]
        }
      ],
      "source": [
        "age=18\n",
        "\n",
        "if age<20:\n",
        "  print('청소년 할인')"
      ]
    },
    {
      "cell_type": "code",
      "source": [
        "walk_count = 1200\n",
        "\n",
        "if walk_count >= 1000:\n",
        "  print('목표 달성')"
      ],
      "metadata": {
        "colab": {
          "base_uri": "https://localhost:8080/"
        },
        "id": "E5Gpd5i-oQiz",
        "outputId": "1522cad7-4fb2-46e8-927c-973f7b21b58f"
      },
      "execution_count": 2,
      "outputs": [
        {
          "output_type": "stream",
          "name": "stdout",
          "text": [
            "목표 달성\n"
          ]
        }
      ]
    },
    {
      "cell_type": "code",
      "source": [
        "num_a=100\n",
        "num_b=100\n",
        "\n",
        "if num_a ==num_b:\n",
        "  print('두 값이 일치합니다.')\n"
      ],
      "metadata": {
        "colab": {
          "base_uri": "https://localhost:8080/"
        },
        "id": "ZpHApKkLoj6P",
        "outputId": "3fd27258-0476-425e-a936-08a8724574fb"
      },
      "execution_count": 6,
      "outputs": [
        {
          "output_type": "stream",
          "name": "stdout",
          "text": [
            "두 값이 일치합니다.\n"
          ]
        }
      ]
    },
    {
      "cell_type": "code",
      "source": [
        "#LAB 3-2\n",
        "n=int(input('정수를 입력하세요:'))\n",
        "print('n = ',n)\n",
        "if n%2 ==0:\n",
        "  print(n ,'은 짝수입니다.')"
      ],
      "metadata": {
        "colab": {
          "base_uri": "https://localhost:8080/"
        },
        "id": "kjGbLZaGo5Ch",
        "outputId": "35f2a05c-3d17-4f58-f5f0-dbfaed70dc91"
      },
      "execution_count": 9,
      "outputs": [
        {
          "output_type": "stream",
          "name": "stdout",
          "text": [
            "정수를 입력하세요:50\n",
            "n =  50\n",
            "50 은 짝수입니다.\n"
          ]
        }
      ]
    },
    {
      "cell_type": "code",
      "source": [
        "x=int(input('-100에서 100 사이의 정수를 입력하세요:'))\n",
        "if x>=100 or x<=-100:\n",
        "  print('-100에서 100 사이의 정수를 입력하세요.')\n",
        "  x=int(input('-100에서 100 사이의 정수를 입력하세요:'))\n",
        "else:\n",
        "  print('x=',x)\n",
        "  if x>0:\n",
        "\n",
        "    print(x,'는 자연수입니다.')"
      ],
      "metadata": {
        "colab": {
          "base_uri": "https://localhost:8080/"
        },
        "id": "XkP_-oR6pagE",
        "outputId": "b90bb781-1e0a-4d3b-a5de-6ee96c7e1a8e"
      },
      "execution_count": 15,
      "outputs": [
        {
          "output_type": "stream",
          "name": "stdout",
          "text": [
            "-100에서 100 사이의 정수를 입력하세요:-50\n",
            "x= -50\n"
          ]
        }
      ]
    },
    {
      "cell_type": "code",
      "source": [
        "#LAB 3-3.\n",
        "x=int(input('게임점수를 입력하시오:'))\n",
        "print('game_score=',x)\n",
        "if x>=1000:\n",
        "  print('고수입니다.')\n",
        "else:\n",
        "  print('입문자입니다.')"
      ],
      "metadata": {
        "colab": {
          "base_uri": "https://localhost:8080/"
        },
        "id": "saUcP7-Np-Zf",
        "outputId": "b120e872-2db7-495e-c8d2-f073897c7a4c"
      },
      "execution_count": 16,
      "outputs": [
        {
          "output_type": "stream",
          "name": "stdout",
          "text": [
            "게임점수를 입력하시오:1000\n",
            "game_score= 1000\n",
            "고수입니다.\n"
          ]
        }
      ]
    },
    {
      "cell_type": "code",
      "source": [
        "a=int(input('한 정수를 입력하시오:'))\n",
        "b=int(input('다른 정수를 입력하시오:'))\n",
        "if a==b:\n",
        "  print('두 값이 일치합니다.')\n",
        "else:\n",
        "  print('두 값이 일치하지 않습니다.')"
      ],
      "metadata": {
        "colab": {
          "base_uri": "https://localhost:8080/"
        },
        "id": "s_suMoNwrWC8",
        "outputId": "a3ba672d-71b9-4692-b09a-484c94ab8c86"
      },
      "execution_count": 18,
      "outputs": [
        {
          "output_type": "stream",
          "name": "stdout",
          "text": [
            "한 정수를 입력하시오:300\n",
            "다른 정수를 입력하시오:300\n",
            "두 값이 일치합니다.\n"
          ]
        }
      ]
    },
    {
      "cell_type": "code",
      "source": [
        "x=int(input('당신은 성인인가요(성인이면 1, 미성년이면 0):'))\n",
        "if x==1:\n",
        "  y=int(input('당신은 결혼을 하셨나요(기혼이면 1, 미혼이면 0):'))\n",
        "  if y==1:\n",
        "    print('당신은 결혼한 성인입니다.')\n",
        "  else:\n",
        "    print('당신은 결혼하지 않은 성인입니다.')\n",
        "else:\n",
        "  print('당신은 미성년자입니다.')"
      ],
      "metadata": {
        "colab": {
          "base_uri": "https://localhost:8080/"
        },
        "id": "WYVFdgEeruAv",
        "outputId": "ab283441-fa94-441d-9e6f-1c4ffdf71a1a"
      },
      "execution_count": 22,
      "outputs": [
        {
          "output_type": "stream",
          "name": "stdout",
          "text": [
            "당신은 성인인가요(성인이면 1, 미성년이면 0):1\n",
            "당신은 결혼을 하셨나요(기혼이면 1, 미혼이면 0):1\n",
            "당신은 결혼한 성인입니다.\n"
          ]
        }
      ]
    },
    {
      "cell_type": "code",
      "source": [
        "#윤년 작성 코드\n",
        "year=int(input('연도를 입력하세요:'))\n",
        "if (year%4 ==0) and (year%100!=0) or(year%400==0):\n",
        "  print(year,'년은 윤년입니다.')"
      ],
      "metadata": {
        "colab": {
          "base_uri": "https://localhost:8080/"
        },
        "id": "PcHPAEdPsTrZ",
        "outputId": "b287d8ee-8cbf-4c77-ea84-a09c64199ed8"
      },
      "execution_count": 23,
      "outputs": [
        {
          "output_type": "stream",
          "name": "stdout",
          "text": [
            "연도를 입력하세요:2000\n",
            "2000 년은 윤년입니다.\n"
          ]
        }
      ]
    },
    {
      "cell_type": "code",
      "source": [
        "year=int(input('연도를 입력하세요:'))\n",
        "leapyear = (year%4 ==0) and (year%100!=0) or(year%400==0)\n",
        "print(year,'년은 윤년입니까?',leapyear)"
      ],
      "metadata": {
        "colab": {
          "base_uri": "https://localhost:8080/"
        },
        "id": "nR61MszSteHi",
        "outputId": "88780a20-3ed0-4f6d-dbad-ff391284c20b"
      },
      "execution_count": 24,
      "outputs": [
        {
          "output_type": "stream",
          "name": "stdout",
          "text": [
            "연도를 입력하세요:2000\n",
            "2000 년은 윤년입니까? True\n"
          ]
        }
      ]
    },
    {
      "cell_type": "code",
      "source": [
        "score=int(input('점수를 입력하세요'))\n",
        "if score>=90:\n",
        "  grade='A'\n",
        "elif score>=80:\n",
        "  grade='B'\n",
        "elif score>=70:\n",
        "  grade='C'\n",
        "elif score>=60:\n",
        "  grade='D'\n",
        "else:\n",
        "  grade='F'\n",
        "print('당신의 등급은:',grade)\n"
      ],
      "metadata": {
        "colab": {
          "base_uri": "https://localhost:8080/"
        },
        "id": "p9cszfhStrD8",
        "outputId": "4cc3c943-3bbb-4980-b1aa-8feb2b1d8a06"
      },
      "execution_count": 26,
      "outputs": [
        {
          "output_type": "stream",
          "name": "stdout",
          "text": [
            "점수를 입력하세요80\n",
            "당신의 등급은: B\n"
          ]
        }
      ]
    },
    {
      "cell_type": "code",
      "source": [
        "#LAB 3-5\n",
        "a=int(input('자동차의 속도를 입력하세요(단위:km/h)'))\n",
        "if a>=100:\n",
        "  print('고속')\n",
        "elif a>60:\n",
        "  print('중속')\n",
        "else:\n",
        "  print('저속')"
      ],
      "metadata": {
        "colab": {
          "base_uri": "https://localhost:8080/"
        },
        "id": "QpeHrzYmub-d",
        "outputId": "5c6d2a21-6118-4efe-f763-8961e12852c6"
      },
      "execution_count": 27,
      "outputs": [
        {
          "output_type": "stream",
          "name": "stdout",
          "text": [
            "자동차의 속도를 입력하세요(단위:km/h)13\n",
            "저속\n"
          ]
        }
      ]
    },
    {
      "cell_type": "code",
      "source": [
        "for i in range(5):\n",
        "  print('Welcome to everyone!!')"
      ],
      "metadata": {
        "colab": {
          "base_uri": "https://localhost:8080/"
        },
        "id": "x311R-ivu8eK",
        "outputId": "44755a3f-0967-46b3-992e-3d01ac8cb04b"
      },
      "execution_count": 28,
      "outputs": [
        {
          "output_type": "stream",
          "name": "stdout",
          "text": [
            "Welcome to everyone!!\n",
            "Welcome to everyone!!\n",
            "Welcome to everyone!!\n",
            "Welcome to everyone!!\n",
            "Welcome to everyone!!\n"
          ]
        }
      ]
    },
    {
      "cell_type": "code",
      "source": [
        "for i in range(5):\n",
        "  print(i,'Welcome to everyone!!')"
      ],
      "metadata": {
        "colab": {
          "base_uri": "https://localhost:8080/"
        },
        "id": "BCQHVxaAvFXz",
        "outputId": "2735d236-3b88-49aa-ee91-a14c105498fa"
      },
      "execution_count": 29,
      "outputs": [
        {
          "output_type": "stream",
          "name": "stdout",
          "text": [
            "0 Welcome to everyone!!\n",
            "1 Welcome to everyone!!\n",
            "2 Welcome to everyone!!\n",
            "3 Welcome to everyone!!\n",
            "4 Welcome to everyone!!\n"
          ]
        }
      ]
    },
    {
      "cell_type": "code",
      "source": [
        "#LAB-3-7\n",
        "\n",
        "list(range(101))"
      ],
      "metadata": {
        "colab": {
          "base_uri": "https://localhost:8080/"
        },
        "id": "NyKnsOZKvKB5",
        "outputId": "87332730-5c94-4791-9579-08a1e325298a"
      },
      "execution_count": 32,
      "outputs": [
        {
          "output_type": "execute_result",
          "data": {
            "text/plain": [
              "[0,\n",
              " 1,\n",
              " 2,\n",
              " 3,\n",
              " 4,\n",
              " 5,\n",
              " 6,\n",
              " 7,\n",
              " 8,\n",
              " 9,\n",
              " 10,\n",
              " 11,\n",
              " 12,\n",
              " 13,\n",
              " 14,\n",
              " 15,\n",
              " 16,\n",
              " 17,\n",
              " 18,\n",
              " 19,\n",
              " 20,\n",
              " 21,\n",
              " 22,\n",
              " 23,\n",
              " 24,\n",
              " 25,\n",
              " 26,\n",
              " 27,\n",
              " 28,\n",
              " 29,\n",
              " 30,\n",
              " 31,\n",
              " 32,\n",
              " 33,\n",
              " 34,\n",
              " 35,\n",
              " 36,\n",
              " 37,\n",
              " 38,\n",
              " 39,\n",
              " 40,\n",
              " 41,\n",
              " 42,\n",
              " 43,\n",
              " 44,\n",
              " 45,\n",
              " 46,\n",
              " 47,\n",
              " 48,\n",
              " 49,\n",
              " 50,\n",
              " 51,\n",
              " 52,\n",
              " 53,\n",
              " 54,\n",
              " 55,\n",
              " 56,\n",
              " 57,\n",
              " 58,\n",
              " 59,\n",
              " 60,\n",
              " 61,\n",
              " 62,\n",
              " 63,\n",
              " 64,\n",
              " 65,\n",
              " 66,\n",
              " 67,\n",
              " 68,\n",
              " 69,\n",
              " 70,\n",
              " 71,\n",
              " 72,\n",
              " 73,\n",
              " 74,\n",
              " 75,\n",
              " 76,\n",
              " 77,\n",
              " 78,\n",
              " 79,\n",
              " 80,\n",
              " 81,\n",
              " 82,\n",
              " 83,\n",
              " 84,\n",
              " 85,\n",
              " 86,\n",
              " 87,\n",
              " 88,\n",
              " 89,\n",
              " 90,\n",
              " 91,\n",
              " 92,\n",
              " 93,\n",
              " 94,\n",
              " 95,\n",
              " 96,\n",
              " 97,\n",
              " 98,\n",
              " 99,\n",
              " 100]"
            ]
          },
          "metadata": {},
          "execution_count": 32
        }
      ]
    },
    {
      "cell_type": "code",
      "source": [
        "list(range(2,101,2))"
      ],
      "metadata": {
        "colab": {
          "base_uri": "https://localhost:8080/"
        },
        "id": "GjfZ2Rjxvv-W",
        "outputId": "d3d5ba9b-05a2-41dd-86ef-619a28b52d88"
      },
      "execution_count": 33,
      "outputs": [
        {
          "output_type": "execute_result",
          "data": {
            "text/plain": [
              "[2,\n",
              " 4,\n",
              " 6,\n",
              " 8,\n",
              " 10,\n",
              " 12,\n",
              " 14,\n",
              " 16,\n",
              " 18,\n",
              " 20,\n",
              " 22,\n",
              " 24,\n",
              " 26,\n",
              " 28,\n",
              " 30,\n",
              " 32,\n",
              " 34,\n",
              " 36,\n",
              " 38,\n",
              " 40,\n",
              " 42,\n",
              " 44,\n",
              " 46,\n",
              " 48,\n",
              " 50,\n",
              " 52,\n",
              " 54,\n",
              " 56,\n",
              " 58,\n",
              " 60,\n",
              " 62,\n",
              " 64,\n",
              " 66,\n",
              " 68,\n",
              " 70,\n",
              " 72,\n",
              " 74,\n",
              " 76,\n",
              " 78,\n",
              " 80,\n",
              " 82,\n",
              " 84,\n",
              " 86,\n",
              " 88,\n",
              " 90,\n",
              " 92,\n",
              " 94,\n",
              " 96,\n",
              " 98,\n",
              " 100]"
            ]
          },
          "metadata": {},
          "execution_count": 33
        }
      ]
    },
    {
      "cell_type": "code",
      "source": [
        "list(range(1,100,2))"
      ],
      "metadata": {
        "colab": {
          "base_uri": "https://localhost:8080/"
        },
        "id": "4L9LvwnLwArI",
        "outputId": "2245e5c1-5477-4ac2-ff4d-9eca9f941f32"
      },
      "execution_count": 34,
      "outputs": [
        {
          "output_type": "execute_result",
          "data": {
            "text/plain": [
              "[1,\n",
              " 3,\n",
              " 5,\n",
              " 7,\n",
              " 9,\n",
              " 11,\n",
              " 13,\n",
              " 15,\n",
              " 17,\n",
              " 19,\n",
              " 21,\n",
              " 23,\n",
              " 25,\n",
              " 27,\n",
              " 29,\n",
              " 31,\n",
              " 33,\n",
              " 35,\n",
              " 37,\n",
              " 39,\n",
              " 41,\n",
              " 43,\n",
              " 45,\n",
              " 47,\n",
              " 49,\n",
              " 51,\n",
              " 53,\n",
              " 55,\n",
              " 57,\n",
              " 59,\n",
              " 61,\n",
              " 63,\n",
              " 65,\n",
              " 67,\n",
              " 69,\n",
              " 71,\n",
              " 73,\n",
              " 75,\n",
              " 77,\n",
              " 79,\n",
              " 81,\n",
              " 83,\n",
              " 85,\n",
              " 87,\n",
              " 89,\n",
              " 91,\n",
              " 93,\n",
              " 95,\n",
              " 97,\n",
              " 99]"
            ]
          },
          "metadata": {},
          "execution_count": 34
        }
      ]
    },
    {
      "cell_type": "code",
      "source": [
        "list(range(-100,0,1))"
      ],
      "metadata": {
        "colab": {
          "base_uri": "https://localhost:8080/"
        },
        "id": "Lv7z60HXwFBZ",
        "outputId": "37951d48-d62b-46f8-fa3f-805fbf855fb6"
      },
      "execution_count": 35,
      "outputs": [
        {
          "output_type": "execute_result",
          "data": {
            "text/plain": [
              "[-100,\n",
              " -99,\n",
              " -98,\n",
              " -97,\n",
              " -96,\n",
              " -95,\n",
              " -94,\n",
              " -93,\n",
              " -92,\n",
              " -91,\n",
              " -90,\n",
              " -89,\n",
              " -88,\n",
              " -87,\n",
              " -86,\n",
              " -85,\n",
              " -84,\n",
              " -83,\n",
              " -82,\n",
              " -81,\n",
              " -80,\n",
              " -79,\n",
              " -78,\n",
              " -77,\n",
              " -76,\n",
              " -75,\n",
              " -74,\n",
              " -73,\n",
              " -72,\n",
              " -71,\n",
              " -70,\n",
              " -69,\n",
              " -68,\n",
              " -67,\n",
              " -66,\n",
              " -65,\n",
              " -64,\n",
              " -63,\n",
              " -62,\n",
              " -61,\n",
              " -60,\n",
              " -59,\n",
              " -58,\n",
              " -57,\n",
              " -56,\n",
              " -55,\n",
              " -54,\n",
              " -53,\n",
              " -52,\n",
              " -51,\n",
              " -50,\n",
              " -49,\n",
              " -48,\n",
              " -47,\n",
              " -46,\n",
              " -45,\n",
              " -44,\n",
              " -43,\n",
              " -42,\n",
              " -41,\n",
              " -40,\n",
              " -39,\n",
              " -38,\n",
              " -37,\n",
              " -36,\n",
              " -35,\n",
              " -34,\n",
              " -33,\n",
              " -32,\n",
              " -31,\n",
              " -30,\n",
              " -29,\n",
              " -28,\n",
              " -27,\n",
              " -26,\n",
              " -25,\n",
              " -24,\n",
              " -23,\n",
              " -22,\n",
              " -21,\n",
              " -20,\n",
              " -19,\n",
              " -18,\n",
              " -17,\n",
              " -16,\n",
              " -15,\n",
              " -14,\n",
              " -13,\n",
              " -12,\n",
              " -11,\n",
              " -10,\n",
              " -9,\n",
              " -8,\n",
              " -7,\n",
              " -6,\n",
              " -5,\n",
              " -4,\n",
              " -3,\n",
              " -2,\n",
              " -1]"
            ]
          },
          "metadata": {},
          "execution_count": 35
        }
      ]
    },
    {
      "cell_type": "code",
      "source": [
        "for i in range(5):\n",
        "  print(i,end=' ')"
      ],
      "metadata": {
        "colab": {
          "base_uri": "https://localhost:8080/"
        },
        "id": "QdxvgiJlwJTa",
        "outputId": "5367bb16-ee4d-4df1-fcde-6ee4853210d6"
      },
      "execution_count": 36,
      "outputs": [
        {
          "output_type": "stream",
          "name": "stdout",
          "text": [
            "0 1 2 3 4 "
          ]
        }
      ]
    },
    {
      "cell_type": "code",
      "source": [
        "s=0\n",
        "for i in range(1,11):\n",
        "  s+=i\n",
        "print('1에서 10까지의 합:',s)"
      ],
      "metadata": {
        "colab": {
          "base_uri": "https://localhost:8080/"
        },
        "id": "RbEKKQlwww5D",
        "outputId": "7a14197f-f14f-430e-9bb5-e4f5cc04d9fd"
      },
      "execution_count": 38,
      "outputs": [
        {
          "output_type": "stream",
          "name": "stdout",
          "text": [
            "1에서 10까지의 합: 55\n"
          ]
        }
      ]
    },
    {
      "cell_type": "code",
      "source": [
        "s=0\n",
        "for i in range(1,11):\n",
        "  s+=i\n",
        "  print('i={}, s={}'.format(i,s))\n",
        "print('1에서 10까지의 합:',s)"
      ],
      "metadata": {
        "colab": {
          "base_uri": "https://localhost:8080/"
        },
        "id": "n3KR2-rIxJJG",
        "outputId": "c598d4c6-c1b7-4bd1-9aa9-2a3278deca30"
      },
      "execution_count": 39,
      "outputs": [
        {
          "output_type": "stream",
          "name": "stdout",
          "text": [
            "i=1, s=1\n",
            "i=2, s=3\n",
            "i=3, s=6\n",
            "i=4, s=10\n",
            "i=5, s=15\n",
            "i=6, s=21\n",
            "i=7, s=28\n",
            "i=8, s=36\n",
            "i=9, s=45\n",
            "i=10, s=55\n",
            "1에서 10까지의 합: 55\n"
          ]
        }
      ]
    },
    {
      "cell_type": "code",
      "source": [
        "#LAB 3-8\n",
        "s=0\n",
        "for i in range(0,101):\n",
        "  s+=i\n",
        "print('1에서 100까지의 정수의 합:',s)"
      ],
      "metadata": {
        "colab": {
          "base_uri": "https://localhost:8080/"
        },
        "id": "_tSgdr6Ixg4a",
        "outputId": "7e7c5d2d-1155-4940-8640-0d13397c9cf8"
      },
      "execution_count": 40,
      "outputs": [
        {
          "output_type": "stream",
          "name": "stdout",
          "text": [
            "1에서 100까지의 정수의 합: 5050\n"
          ]
        }
      ]
    },
    {
      "cell_type": "code",
      "source": [
        "s=0\n",
        "for i in range(0,101,2):\n",
        "  s+=i\n",
        "print('1에서 100까지의 짝수의 합:',s)"
      ],
      "metadata": {
        "colab": {
          "base_uri": "https://localhost:8080/"
        },
        "id": "BtOiWtknx1xp",
        "outputId": "3a345e91-0b57-4c2f-cb31-9ce06d52724f"
      },
      "execution_count": 41,
      "outputs": [
        {
          "output_type": "stream",
          "name": "stdout",
          "text": [
            "1에서 100까지의 짝수의 합: 2550\n"
          ]
        }
      ]
    },
    {
      "cell_type": "code",
      "source": [
        "s=0\n",
        "for i in range(1,101,2):\n",
        "  s+=i\n",
        "print('1에서 100까지의 홀수의 합:',s)"
      ],
      "metadata": {
        "colab": {
          "base_uri": "https://localhost:8080/"
        },
        "id": "ECtMbrRWyABw",
        "outputId": "1f0667e6-b9f0-4e9e-aa0c-63fd5149ceee"
      },
      "execution_count": 42,
      "outputs": [
        {
          "output_type": "stream",
          "name": "stdout",
          "text": [
            "1에서 100까지의 홀수의 합: 2500\n"
          ]
        }
      ]
    },
    {
      "cell_type": "code",
      "source": [
        "n=int(input('합계를 구할 수를 입력하세요.'))\n",
        "s=0\n",
        "for i in range(0,n+1):\n",
        "  s+=i\n",
        "print(n,'까지의 합:',s)\n",
        "print('1부터 {}까지의 합은 {}'.format(n,s))"
      ],
      "metadata": {
        "colab": {
          "base_uri": "https://localhost:8080/"
        },
        "id": "2ZDdeV1DyEZf",
        "outputId": "06676a65-25dc-4a53-fcd8-e935c03d4620"
      },
      "execution_count": 50,
      "outputs": [
        {
          "output_type": "stream",
          "name": "stdout",
          "text": [
            "합계를 구할 수를 입력하세요.100\n",
            "100 까지의 합: 5050\n",
            "1부터 100까지의 합은 5050\n"
          ]
        }
      ]
    },
    {
      "cell_type": "code",
      "source": [
        "#팩토리얼 계산\n",
        "m=int(input('수 입력'))\n",
        "t=1\n",
        "for i in range(1,m+1):\n",
        "  t*=i\n",
        "print('{}!={}'.format(m,t))"
      ],
      "metadata": {
        "colab": {
          "base_uri": "https://localhost:8080/"
        },
        "id": "NB5I_13-yjV3",
        "outputId": "bcb5e79a-1494-41e0-ba41-9acd4bd25ffc"
      },
      "execution_count": 53,
      "outputs": [
        {
          "output_type": "stream",
          "name": "stdout",
          "text": [
            "수 입력5\n",
            "5!=120\n"
          ]
        }
      ]
    },
    {
      "cell_type": "code",
      "source": [
        "summer_fruits = ['수박','참외','체리','포도']\n",
        "\n",
        "for fruit in summer_fruits:\n",
        "  print(fruit, end= ' ')"
      ],
      "metadata": {
        "colab": {
          "base_uri": "https://localhost:8080/"
        },
        "id": "k8-UBPTDzkc6",
        "outputId": "fe6d0683-3fb8-4c2b-9348-75cf15476425"
      },
      "execution_count": 54,
      "outputs": [
        {
          "output_type": "stream",
          "name": "stdout",
          "text": [
            "수박 참외 체리 포도 "
          ]
        }
      ]
    },
    {
      "cell_type": "code",
      "source": [
        "numbers = [10,20,30,40,50]\n",
        "s=0\n",
        "for n in numbers:\n",
        "  s+=n\n",
        "print('리스트 항목 합:',s)"
      ],
      "metadata": {
        "colab": {
          "base_uri": "https://localhost:8080/"
        },
        "id": "1Ej2Jkz60kW1",
        "outputId": "0ae6fbdd-3a63-4c80-81cf-99f0432fba8f"
      },
      "execution_count": 58,
      "outputs": [
        {
          "output_type": "stream",
          "name": "stdout",
          "text": [
            "리스트 항목 합: 150\n"
          ]
        }
      ]
    },
    {
      "cell_type": "code",
      "source": [
        "#구구단\n",
        "for i in range(2,10):\n",
        "  for j in range(2,10):\n",
        "    print('{}*{}={}'.format(i,j,i*j), end=' ')\n",
        "  print()"
      ],
      "metadata": {
        "colab": {
          "base_uri": "https://localhost:8080/"
        },
        "id": "nHtO-iT00u22",
        "outputId": "6c59f034-5293-43e4-f355-1837912b2c03"
      },
      "execution_count": 61,
      "outputs": [
        {
          "output_type": "stream",
          "name": "stdout",
          "text": [
            "2*2=4 2*3=6 2*4=8 2*5=10 2*6=12 2*7=14 2*8=16 2*9=18 \n",
            "3*2=6 3*3=9 3*4=12 3*5=15 3*6=18 3*7=21 3*8=24 3*9=27 \n",
            "4*2=8 4*3=12 4*4=16 4*5=20 4*6=24 4*7=28 4*8=32 4*9=36 \n",
            "5*2=10 5*3=15 5*4=20 5*5=25 5*6=30 5*7=35 5*8=40 5*9=45 \n",
            "6*2=12 6*3=18 6*4=24 6*5=30 6*6=36 6*7=42 6*8=48 6*9=54 \n",
            "7*2=14 7*3=21 7*4=28 7*5=35 7*6=42 7*7=49 7*8=56 7*9=63 \n",
            "8*2=16 8*3=24 8*4=32 8*5=40 8*6=48 8*7=56 8*8=64 8*9=72 \n",
            "9*2=18 9*3=27 9*4=36 9*5=45 9*6=54 9*7=63 9*8=72 9*9=81 \n"
          ]
        }
      ]
    },
    {
      "cell_type": "code",
      "source": [
        "for i in range(7):\n",
        "  print(' '*i+'#')"
      ],
      "metadata": {
        "colab": {
          "base_uri": "https://localhost:8080/"
        },
        "id": "9TXxY7rd1LJP",
        "outputId": "29d11cf6-3849-4a1f-f55c-28074bef9365"
      },
      "execution_count": 62,
      "outputs": [
        {
          "output_type": "stream",
          "name": "stdout",
          "text": [
            "#\n",
            " #\n",
            "  #\n",
            "   #\n",
            "    #\n",
            "     #\n",
            "      #\n"
          ]
        }
      ]
    },
    {
      "cell_type": "code",
      "source": [
        "#LAB 3-9\n",
        "for i in range(7):\n",
        "  print(' '*(6-i)+'#')"
      ],
      "metadata": {
        "colab": {
          "base_uri": "https://localhost:8080/"
        },
        "id": "LJNaRT8e1gPO",
        "outputId": "f6288f83-b9cb-4551-be4e-5c93cb455467"
      },
      "execution_count": 63,
      "outputs": [
        {
          "output_type": "stream",
          "name": "stdout",
          "text": [
            "      #\n",
            "     #\n",
            "    #\n",
            "   #\n",
            "  #\n",
            " #\n",
            "#\n"
          ]
        }
      ]
    },
    {
      "cell_type": "code",
      "source": [
        "for i in range(4):\n",
        "  print(' '*(4-i)+'+'*(2*i+1))"
      ],
      "metadata": {
        "colab": {
          "base_uri": "https://localhost:8080/"
        },
        "id": "HTXt7fGc1uOj",
        "outputId": "5a2dc789-87ce-4559-e687-864137ddb7ff"
      },
      "execution_count": 64,
      "outputs": [
        {
          "output_type": "stream",
          "name": "stdout",
          "text": [
            "    +\n",
            "   +++\n",
            "  +++++\n",
            " +++++++\n"
          ]
        }
      ]
    },
    {
      "cell_type": "code",
      "source": [
        "#소수 구하기\n",
        "n=int(input('수를 입력하시오~'))\n",
        "is_prime=True\n",
        "for i in range(2,n):\n",
        "  if n%i ==0:\n",
        "    is_prime=False\n",
        "\n",
        "print(n,'은 소수입니까?',is_prime)"
      ],
      "metadata": {
        "colab": {
          "base_uri": "https://localhost:8080/"
        },
        "id": "VBwQOEb52J-d",
        "outputId": "3d5d30fd-654e-470c-e7f9-0410d2840dbf"
      },
      "execution_count": 65,
      "outputs": [
        {
          "output_type": "stream",
          "name": "stdout",
          "text": [
            "수를 입력하시오~7\n",
            "7 은 소수입니까? True\n"
          ]
        }
      ]
    },
    {
      "cell_type": "code",
      "source": [
        "primes=[]\n",
        "\n",
        "n=int(input('수를 입력하세요:')) #원하는 수 입력  \n",
        "for j in range(1,n+1):            #1~원하는 수까지의 범위에서\n",
        "  is_prime = True\n",
        "  for k in range(2,j):            \n",
        "    if j%k ==0:                   #원하는 수가 소수가 아니라면?\n",
        "      is_prime = False            #걸러주세요!\n",
        "  if is_prime:                    #소수라면?\n",
        "    primes.append(j)              #[]에 is_prime을 추가!\n",
        "\n",
        "print(primes)"
      ],
      "metadata": {
        "colab": {
          "base_uri": "https://localhost:8080/"
        },
        "id": "d59gbX3R3B8S",
        "outputId": "b179fa9c-b62b-48c9-9fbe-01605deb93d0"
      },
      "execution_count": 68,
      "outputs": [
        {
          "output_type": "stream",
          "name": "stdout",
          "text": [
            "수를 입력하세요:100\n",
            "[1, 2, 3, 5, 7, 11, 13, 17, 19, 23, 29, 31, 37, 41, 43, 47, 53, 59, 61, 67, 71, 73, 79, 83, 89, 97]\n"
          ]
        }
      ]
    },
    {
      "cell_type": "code",
      "source": [
        "n=int(input('합을 구할 수를 입력하세요:'))\n",
        "s=0\n",
        "i=1\n",
        "while i<=n:\n",
        "  s+=i\n",
        "  i+=1\n",
        "  print('i={},s={}'.format(i,s))\n",
        "print('1부터{}까지의 합은 {}입니다.'.format(n,s))"
      ],
      "metadata": {
        "colab": {
          "base_uri": "https://localhost:8080/"
        },
        "id": "oD2LYAKC5Bsx",
        "outputId": "654b11fa-beed-4eec-8a94-3c1459b60449"
      },
      "execution_count": 71,
      "outputs": [
        {
          "output_type": "stream",
          "name": "stdout",
          "text": [
            "합을 구할 수를 입력하세요:100\n",
            "i=2,s=1\n",
            "i=3,s=3\n",
            "i=4,s=6\n",
            "i=5,s=10\n",
            "i=6,s=15\n",
            "i=7,s=21\n",
            "i=8,s=28\n",
            "i=9,s=36\n",
            "i=10,s=45\n",
            "i=11,s=55\n",
            "i=12,s=66\n",
            "i=13,s=78\n",
            "i=14,s=91\n",
            "i=15,s=105\n",
            "i=16,s=120\n",
            "i=17,s=136\n",
            "i=18,s=153\n",
            "i=19,s=171\n",
            "i=20,s=190\n",
            "i=21,s=210\n",
            "i=22,s=231\n",
            "i=23,s=253\n",
            "i=24,s=276\n",
            "i=25,s=300\n",
            "i=26,s=325\n",
            "i=27,s=351\n",
            "i=28,s=378\n",
            "i=29,s=406\n",
            "i=30,s=435\n",
            "i=31,s=465\n",
            "i=32,s=496\n",
            "i=33,s=528\n",
            "i=34,s=561\n",
            "i=35,s=595\n",
            "i=36,s=630\n",
            "i=37,s=666\n",
            "i=38,s=703\n",
            "i=39,s=741\n",
            "i=40,s=780\n",
            "i=41,s=820\n",
            "i=42,s=861\n",
            "i=43,s=903\n",
            "i=44,s=946\n",
            "i=45,s=990\n",
            "i=46,s=1035\n",
            "i=47,s=1081\n",
            "i=48,s=1128\n",
            "i=49,s=1176\n",
            "i=50,s=1225\n",
            "i=51,s=1275\n",
            "i=52,s=1326\n",
            "i=53,s=1378\n",
            "i=54,s=1431\n",
            "i=55,s=1485\n",
            "i=56,s=1540\n",
            "i=57,s=1596\n",
            "i=58,s=1653\n",
            "i=59,s=1711\n",
            "i=60,s=1770\n",
            "i=61,s=1830\n",
            "i=62,s=1891\n",
            "i=63,s=1953\n",
            "i=64,s=2016\n",
            "i=65,s=2080\n",
            "i=66,s=2145\n",
            "i=67,s=2211\n",
            "i=68,s=2278\n",
            "i=69,s=2346\n",
            "i=70,s=2415\n",
            "i=71,s=2485\n",
            "i=72,s=2556\n",
            "i=73,s=2628\n",
            "i=74,s=2701\n",
            "i=75,s=2775\n",
            "i=76,s=2850\n",
            "i=77,s=2926\n",
            "i=78,s=3003\n",
            "i=79,s=3081\n",
            "i=80,s=3160\n",
            "i=81,s=3240\n",
            "i=82,s=3321\n",
            "i=83,s=3403\n",
            "i=84,s=3486\n",
            "i=85,s=3570\n",
            "i=86,s=3655\n",
            "i=87,s=3741\n",
            "i=88,s=3828\n",
            "i=89,s=3916\n",
            "i=90,s=4005\n",
            "i=91,s=4095\n",
            "i=92,s=4186\n",
            "i=93,s=4278\n",
            "i=94,s=4371\n",
            "i=95,s=4465\n",
            "i=96,s=4560\n",
            "i=97,s=4656\n",
            "i=98,s=4753\n",
            "i=99,s=4851\n",
            "i=100,s=4950\n",
            "i=101,s=5050\n",
            "1부터100까지의 합은 5050입니다.\n"
          ]
        }
      ]
    },
    {
      "cell_type": "code",
      "source": [
        "selected=None\n",
        "while selected not in ['가위','바위','보']:\n",
        "  selected=input('가위,바위,보 중에 선택하세요')\n",
        "print('선택한 값은:',selected)"
      ],
      "metadata": {
        "colab": {
          "base_uri": "https://localhost:8080/"
        },
        "id": "8V9rNKvG63GN",
        "outputId": "92a8d50a-86a8-4c3a-f71b-72b0d5f2e09b"
      },
      "execution_count": 73,
      "outputs": [
        {
          "output_type": "stream",
          "name": "stdout",
          "text": [
            "가위,바위,보 중에 선택하세요싫어용\n",
            "가위,바위,보 중에 선택하세요내가왜용\n",
            "가위,바위,보 중에 선택하세요가위\n",
            "선택한 값은: 가위\n"
          ]
        }
      ]
    },
    {
      "cell_type": "code",
      "source": [
        "n=-2\n",
        "while n<=0:\n",
        "  n=int(input('합을 구할 양의 정수를 입력하세요.'))\n",
        "s=0\n",
        "for i in range(1,n+1):\n",
        "  s+=i\n",
        "print('1부터 {}까지의 합은 {}'.format(n,s))\n"
      ],
      "metadata": {
        "colab": {
          "base_uri": "https://localhost:8080/"
        },
        "id": "SLUa4pFI7jc7",
        "outputId": "df2f675b-c782-45de-f83d-40864b3c0c43"
      },
      "execution_count": 77,
      "outputs": [
        {
          "output_type": "stream",
          "name": "stdout",
          "text": [
            "합을 구할 양의 정수를 입력하세요.10\n",
            "1부터 10까지의 합은 55\n"
          ]
        }
      ]
    },
    {
      "cell_type": "code",
      "source": [
        "st='Programming'\n",
        "\n",
        "for ch in st:\n",
        "  if ch in ['a','e','i','o','u']:\n",
        "    continue\n",
        "  print(ch)\n",
        "print('the end')"
      ],
      "metadata": {
        "colab": {
          "base_uri": "https://localhost:8080/"
        },
        "id": "QlJMr7dw8Nfx",
        "outputId": "70419b6e-44fc-405b-cb88-fc8ca8b9b4c8"
      },
      "execution_count": 78,
      "outputs": [
        {
          "output_type": "stream",
          "name": "stdout",
          "text": [
            "P\n",
            "r\n",
            "g\n",
            "r\n",
            "m\n",
            "m\n",
            "n\n",
            "g\n",
            "the end\n"
          ]
        }
      ]
    },
    {
      "cell_type": "code",
      "source": [
        "#연습문제 3.2\n",
        "x=input('이름을 입력하시오:')\n",
        "y=int(input('키를 입력하시오(단위cm):'))\n",
        "if y<140:\n",
        "  print(x,'님은 놀이기구를 탈 수 없습니다.')\n",
        "else:\n",
        "  print(x,'님은 놀이기구를 탈 수 있습니다.')"
      ],
      "metadata": {
        "colab": {
          "base_uri": "https://localhost:8080/"
        },
        "id": "nt8ufkDf81AE",
        "outputId": "4e75679a-c24a-4824-830e-6b4fab1b9f73"
      },
      "execution_count": 79,
      "outputs": [
        {
          "output_type": "stream",
          "name": "stdout",
          "text": [
            "이름을 입력하시오:동윤\n",
            "키를 입력하시오(단위cm):170\n",
            "동윤 님은 놀이기구를 탈 수 있습니다.\n"
          ]
        }
      ]
    },
    {
      "cell_type": "code",
      "source": [
        "#연습문제 3.3\n",
        "\n",
        "x=int(input('나이를 입력하시오:'))\n",
        "y=int(input('키를 입력하시오(단위cm):'))\n",
        "if x>=19 and y>=150:\n",
        "  print('입장할 수 있습니다.')\n",
        "else:\n",
        "  print('입장할 수 없습니다.')"
      ],
      "metadata": {
        "colab": {
          "base_uri": "https://localhost:8080/"
        },
        "id": "vHW9RfilPQy8",
        "outputId": "c4c41675-68ce-4ef7-f72c-d6e7b5993424"
      },
      "execution_count": 81,
      "outputs": [
        {
          "output_type": "stream",
          "name": "stdout",
          "text": [
            "나이를 입력하시오:20\n",
            "키를 입력하시오(단위cm):149\n",
            "입장할 수 없습니다.\n"
          ]
        }
      ]
    },
    {
      "cell_type": "code",
      "source": [
        "#연습문제 3.5\n",
        "a, b = input('두 정수를 입력하세요: ').split()\n",
        "if a>b:\n",
        "  print(a,b)\n",
        "else:\n",
        "  print(b,a)"
      ],
      "metadata": {
        "colab": {
          "base_uri": "https://localhost:8080/",
          "height": 266
        },
        "id": "QNd0q1OqQ4GC",
        "outputId": "d2704fc0-d624-47d0-92e9-90ee99a2650a"
      },
      "execution_count": 87,
      "outputs": [
        {
          "name": "stdout",
          "output_type": "stream",
          "text": [
            "두 정수를 입력하세요: 30 12\n"
          ]
        },
        {
          "output_type": "error",
          "ename": "TypeError",
          "evalue": "ignored",
          "traceback": [
            "\u001b[0;31m---------------------------------------------------------------------------\u001b[0m",
            "\u001b[0;31mTypeError\u001b[0m                                 Traceback (most recent call last)",
            "\u001b[0;32m<ipython-input-87-5d17f23c6edc>\u001b[0m in \u001b[0;36m<module>\u001b[0;34m\u001b[0m\n\u001b[1;32m      1\u001b[0m \u001b[0;31m#연습문제 3.5\u001b[0m\u001b[0;34m\u001b[0m\u001b[0;34m\u001b[0m\u001b[0;34m\u001b[0m\u001b[0m\n\u001b[0;32m----> 2\u001b[0;31m \u001b[0ma\u001b[0m\u001b[0;34m,\u001b[0m \u001b[0mb\u001b[0m \u001b[0;34m=\u001b[0m \u001b[0mint\u001b[0m\u001b[0;34m(\u001b[0m\u001b[0minput\u001b[0m\u001b[0;34m(\u001b[0m\u001b[0;34m'두 정수를 입력하세요: '\u001b[0m\u001b[0;34m)\u001b[0m\u001b[0;34m.\u001b[0m\u001b[0msplit\u001b[0m\u001b[0;34m(\u001b[0m\u001b[0;34m)\u001b[0m\u001b[0;34m)\u001b[0m\u001b[0;34m\u001b[0m\u001b[0;34m\u001b[0m\u001b[0m\n\u001b[0m\u001b[1;32m      3\u001b[0m \u001b[0;32mif\u001b[0m \u001b[0ma\u001b[0m\u001b[0;34m>\u001b[0m\u001b[0mb\u001b[0m\u001b[0;34m:\u001b[0m\u001b[0;34m\u001b[0m\u001b[0;34m\u001b[0m\u001b[0m\n\u001b[1;32m      4\u001b[0m   \u001b[0mprint\u001b[0m\u001b[0;34m(\u001b[0m\u001b[0ma\u001b[0m\u001b[0;34m,\u001b[0m\u001b[0mb\u001b[0m\u001b[0;34m)\u001b[0m\u001b[0;34m\u001b[0m\u001b[0;34m\u001b[0m\u001b[0m\n\u001b[1;32m      5\u001b[0m \u001b[0;32melse\u001b[0m\u001b[0;34m:\u001b[0m\u001b[0;34m\u001b[0m\u001b[0;34m\u001b[0m\u001b[0m\n",
            "\u001b[0;31mTypeError\u001b[0m: int() argument must be a string, a bytes-like object or a number, not 'list'"
          ]
        }
      ]
    },
    {
      "cell_type": "code",
      "source": [
        "a,b,c = input('세 정수를 입력하세요:').split()\n",
        "if a<b"
      ],
      "metadata": {
        "id": "7TUMp1YiRUyU"
      },
      "execution_count": null,
      "outputs": []
    },
    {
      "cell_type": "code",
      "source": [
        "x,y=map(int, input('숫자 두 개를 입력하세요: ').split())\n",
        "if x>0 and y>0:\n",
        "  print('1사분면에 있음')\n",
        "elif x<0 and y>0:\n",
        "  print('2사분면에 있음')\n",
        "elif x<0 and y<0:\n",
        "  print('3사분면에 있음')\n",
        "else:\n",
        "  print('4사분면에 있음')\n"
      ],
      "metadata": {
        "colab": {
          "base_uri": "https://localhost:8080/"
        },
        "id": "GPnbyXpOUa1D",
        "outputId": "e12da9e7-81d0-48da-e963-e233629b290e"
      },
      "execution_count": 90,
      "outputs": [
        {
          "output_type": "stream",
          "name": "stdout",
          "text": [
            "숫자 두 개를 입력하세요: 12 24\n",
            "1사분면에 있음\n"
          ]
        }
      ]
    },
    {
      "cell_type": "code",
      "source": [
        "c=int(input('정수를 입력하시오:'))\n",
        "if c%2==0:\n",
        "  print(c,'는(은) 2(으)로 나누어집니다.')\n",
        "  if c%3==0:\n",
        "    print(c,'는(은) 3(으)로 나누어집니다.')\n",
        "    print(c,'는(은) 2와 3 모두로 나누어집니다.')\n",
        "  else:\n",
        "    print(c,'는(은) 3(으)로 나누어지지 않습니다.')\n",
        "    print(c,'는(은) 2와 3 모두로 나누어지지 않습니다.')    \n",
        "\n",
        "elif c%3 ==0:\n",
        "  print(c,'는(은) 2(으)로 나누어지지 않습니다.')\n",
        "  print(c,'는(은) 3(으)로 나누어집니다.')\n",
        "  print(c, '는(은) 2와 3 모두로 나누어지지 않습니다.')"
      ],
      "metadata": {
        "colab": {
          "base_uri": "https://localhost:8080/"
        },
        "id": "zO9anOfMU1pK",
        "outputId": "969aaa3a-b93e-4be8-884c-9ae949f6c412"
      },
      "execution_count": 93,
      "outputs": [
        {
          "output_type": "stream",
          "name": "stdout",
          "text": [
            "정수를 입력하시오:12\n",
            "12 는(은) 2(으)로 나누어집니다.\n",
            "12 는(은) 3(으)로 나누어집니다.\n",
            "12 는(은) 2와 3 모두로 나누어집니다.\n"
          ]
        }
      ]
    },
    {
      "cell_type": "code",
      "source": [
        "x,y=map(int, input('숫자 두 개를 입력하세요: ').split())\n",
        "if x%y==0:\n",
        "  print('{}는{}의 배수입니다.'.format(x,y))\n",
        "else:\n",
        "  print('{}는{}의 배수가 아닙니다.'.format(x,y))\n"
      ],
      "metadata": {
        "colab": {
          "base_uri": "https://localhost:8080/"
        },
        "id": "B-nORlhpYIGw",
        "outputId": "ac8bce29-4fe1-4b35-e411-acd3267a690d"
      },
      "execution_count": 95,
      "outputs": [
        {
          "output_type": "stream",
          "name": "stdout",
          "text": [
            "숫자 두 개를 입력하세요: 125 52\n",
            "125는52의 배수가 아닙니다.\n"
          ]
        }
      ]
    },
    {
      "cell_type": "code",
      "source": [
        "x,y,z=map(int, input('1에서 10 사이의 숫자 세 개를 입력하세요: ').split())\n"
      ],
      "metadata": {
        "id": "XPdJmJyoYitt"
      },
      "execution_count": null,
      "outputs": []
    }
  ]
}