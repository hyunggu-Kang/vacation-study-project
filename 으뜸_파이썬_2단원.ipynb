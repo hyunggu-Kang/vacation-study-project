{
  "nbformat": 4,
  "nbformat_minor": 0,
  "metadata": {
    "colab": {
      "provenance": [],
      "authorship_tag": "ABX9TyPNy2AEoVzR38xP8vku9J4a",
      "include_colab_link": true
    },
    "kernelspec": {
      "name": "python3",
      "display_name": "Python 3"
    },
    "language_info": {
      "name": "python"
    }
  },
  "cells": [
    {
      "cell_type": "markdown",
      "metadata": {
        "id": "view-in-github",
        "colab_type": "text"
      },
      "source": [
        "<a href=\"https://colab.research.google.com/github/hyunggu-Kang/vacation-study-project/blob/main/%EC%9C%BC%EB%9C%B8_%ED%8C%8C%EC%9D%B4%EC%8D%AC_2%EB%8B%A8%EC%9B%90.ipynb\" target=\"_parent\"><img src=\"https://colab.research.google.com/assets/colab-badge.svg\" alt=\"Open In Colab\"/></a>"
      ]
    },
    {
      "cell_type": "code",
      "execution_count": 1,
      "metadata": {
        "colab": {
          "base_uri": "https://localhost:8080/"
        },
        "id": "fp-W97E8abEW",
        "outputId": "8d7767f7-d40e-4c6d-9d7b-906291afb78a"
      },
      "outputs": [
        {
          "output_type": "stream",
          "name": "stdout",
          "text": [
            "나의 이름은: 홍길동\n",
            "나의 나이는: 24\n",
            "나의 키는 184 cm입니다.\n",
            "10 + 20= 30\n",
            "10*20 = 200\n"
          ]
        }
      ],
      "source": [
        "print('나의 이름은:','홍길동')\n",
        "print(\"나의 나이는:\",'24')\n",
        "print('나의 키는', 184, 'cm입니다.')\n",
        "print('10 + 20=',10+20)\n",
        "print('10*20 =', 10*20)"
      ]
    },
    {
      "cell_type": "code",
      "source": [
        "r=4\n",
        "print('원의 반지름:',r)\n",
        "print('원의 면적:',3.14*r*r)\n",
        "print('원의 둘레:', 2*3.14*r)"
      ],
      "metadata": {
        "colab": {
          "base_uri": "https://localhost:8080/"
        },
        "id": "oaMxDxPFcpdz",
        "outputId": "e986a024-c7b6-4fb4-db09-9a62632210a6"
      },
      "execution_count": 3,
      "outputs": [
        {
          "output_type": "stream",
          "name": "stdout",
          "text": [
            "원의 반지름: 4\n",
            "원의 면적: 50.24\n",
            "원의 둘레: 25.12\n"
          ]
        }
      ]
    },
    {
      "cell_type": "code",
      "source": [
        "#LAB 2-2.\n",
        "r=8\n",
        "print('원의 반지름:',r)\n",
        "print('원의 면적:',3.14*r*r)\n",
        "print('원의 둘레:', 2*3.14*r)"
      ],
      "metadata": {
        "colab": {
          "base_uri": "https://localhost:8080/"
        },
        "id": "_DXCyLBYdKkJ",
        "outputId": "5ae032e2-ce81-471f-ddca-2fbbb2244693"
      },
      "execution_count": 4,
      "outputs": [
        {
          "output_type": "stream",
          "name": "stdout",
          "text": [
            "원의 반지름: 8\n",
            "원의 면적: 200.96\n",
            "원의 둘레: 50.24\n"
          ]
        }
      ]
    },
    {
      "cell_type": "code",
      "source": [
        "#LAB 2-3.\n",
        "#1.\n",
        "r=8\n",
        "print('원의 반지름:',r)\n",
        "print('원의 면적:',3.14*r*r)\n",
        "print('원의 둘레:', 2*3.14*r)\n",
        "\n",
        "#2.\n",
        "r=10\n",
        "print('원의 반지름:',r)\n",
        "print('원의 면적:',3.14*r*r)\n",
        "print('원의 둘레:', 2*3.14*r)\n",
        "\n",
        "#3.\n",
        "width =100\n",
        "height = 200\n",
        "print('너비',width,',높이',height,'인 사각형의 면적:',width*height)"
      ],
      "metadata": {
        "colab": {
          "base_uri": "https://localhost:8080/"
        },
        "id": "VE-HYaL7dY0E",
        "outputId": "352e9b45-fca7-4167-a96d-586ae2aaa1a6"
      },
      "execution_count": 5,
      "outputs": [
        {
          "output_type": "stream",
          "name": "stdout",
          "text": [
            "원의 반지름: 8\n",
            "원의 면적: 200.96\n",
            "원의 둘레: 50.24\n",
            "원의 반지름: 10\n",
            "원의 면적: 314.0\n",
            "원의 둘레: 62.800000000000004\n",
            "너비 100 ,높이 200 인 사각형의 면적: 20000\n"
          ]
        }
      ]
    },
    {
      "cell_type": "code",
      "source": [
        "#대화창 실습\n",
        "name = '갱'\n",
        "print('이름:',name)"
      ],
      "metadata": {
        "colab": {
          "base_uri": "https://localhost:8080/"
        },
        "id": "s_h3lBTBd7MQ",
        "outputId": "01e4cb18-891b-473e-c691-cf181848af01"
      },
      "execution_count": 6,
      "outputs": [
        {
          "output_type": "stream",
          "name": "stdout",
          "text": [
            "이름: 갱\n"
          ]
        }
      ]
    },
    {
      "cell_type": "code",
      "source": [
        "#LAB 2-4\n",
        "name = '전우치'\n",
        "print('나의 이름은:',name)\n",
        "age=27\n",
        "print('나의 나이는:',age)\n",
        "height=179\n",
        "print('나의 키는',height,'cm입니다.')"
      ],
      "metadata": {
        "colab": {
          "base_uri": "https://localhost:8080/"
        },
        "id": "hFQOB5XIeIIE",
        "outputId": "8541cbdd-64fa-4cbd-cf37-f94d2101f335"
      },
      "execution_count": 7,
      "outputs": [
        {
          "output_type": "stream",
          "name": "stdout",
          "text": [
            "나의 이름은: 전우치\n",
            "나의 나이는: 27\n",
            "나의 키는 179 cm입니다.\n"
          ]
        }
      ]
    },
    {
      "cell_type": "code",
      "source": [
        "#LAB 2-5\n",
        "iixxjjkk = 20\n",
        "print('나의 나이는',iixxjjkk,'세 입니다.')"
      ],
      "metadata": {
        "colab": {
          "base_uri": "https://localhost:8080/"
        },
        "id": "4MnlrPnTecT7",
        "outputId": "f7883a38-f1e8-4295-9b90-e4c528537256"
      },
      "execution_count": 8,
      "outputs": [
        {
          "output_type": "stream",
          "name": "stdout",
          "text": [
            "나의 나이는 20 세 입니다.\n"
          ]
        }
      ]
    },
    {
      "cell_type": "code",
      "source": [
        "radius = 20\n",
        "depth = 10\n",
        "final_length = 0.5*radius*depth\n",
        "print('삼각형의 면적은',final_length)"
      ],
      "metadata": {
        "colab": {
          "base_uri": "https://localhost:8080/"
        },
        "id": "DodAlZUBf_kA",
        "outputId": "0e469ae5-227d-4ac6-e7ac-63b94e27cf16"
      },
      "execution_count": 9,
      "outputs": [
        {
          "output_type": "stream",
          "name": "stdout",
          "text": [
            "삼각형의 면적은 100.0\n"
          ]
        }
      ]
    },
    {
      "cell_type": "code",
      "source": [
        "#LAB 2-7.\n",
        "2**0.5\n",
        "3**0.5"
      ],
      "metadata": {
        "colab": {
          "base_uri": "https://localhost:8080/"
        },
        "id": "VPNSDXIkgeC4",
        "outputId": "20ea7cd1-5ef5-4ebc-a107-0a18cac5a827"
      },
      "execution_count": 10,
      "outputs": [
        {
          "output_type": "execute_result",
          "data": {
            "text/plain": [
              "1.7320508075688772"
            ]
          },
          "metadata": {},
          "execution_count": 10
        }
      ]
    },
    {
      "cell_type": "code",
      "source": [
        "#lab 2-8\n",
        "a= 8+2j\n",
        "b= 4+3j\n",
        "\n",
        "print(a+b)\n",
        "print(a-b)\n",
        "print(a*b)\n",
        "print(a/b)"
      ],
      "metadata": {
        "colab": {
          "base_uri": "https://localhost:8080/"
        },
        "id": "As5a5a1-h1h4",
        "outputId": "b75488f7-6603-430b-b535-c4d1c96e6cce"
      },
      "execution_count": 11,
      "outputs": [
        {
          "output_type": "stream",
          "name": "stdout",
          "text": [
            "(12+5j)\n",
            "(4-1j)\n",
            "(26+32j)\n",
            "(1.52-0.64j)\n"
          ]
        }
      ]
    },
    {
      "cell_type": "code",
      "source": [
        "num=200\n",
        "num+=100\n",
        "num"
      ],
      "metadata": {
        "colab": {
          "base_uri": "https://localhost:8080/"
        },
        "id": "9v7yrZSuixzp",
        "outputId": "248d4658-d02b-49a4-8005-00faf0f368d2"
      },
      "execution_count": 12,
      "outputs": [
        {
          "output_type": "execute_result",
          "data": {
            "text/plain": [
              "300"
            ]
          },
          "metadata": {},
          "execution_count": 12
        }
      ]
    },
    {
      "cell_type": "code",
      "source": [
        "#9\n",
        "a=1024\n",
        "a>>1"
      ],
      "metadata": {
        "colab": {
          "base_uri": "https://localhost:8080/"
        },
        "id": "LeQ4nGu8i8om",
        "outputId": "628e80cc-ec8e-4527-e598-262d76c47dad"
      },
      "execution_count": 13,
      "outputs": [
        {
          "output_type": "execute_result",
          "data": {
            "text/plain": [
              "512"
            ]
          },
          "metadata": {},
          "execution_count": 13
        }
      ]
    },
    {
      "cell_type": "code",
      "source": [
        "a>>2"
      ],
      "metadata": {
        "colab": {
          "base_uri": "https://localhost:8080/"
        },
        "id": "BGfQ4h9CkVvv",
        "outputId": "b49249e8-7fe2-4d94-bde7-6d4728ccf0c2"
      },
      "execution_count": 14,
      "outputs": [
        {
          "output_type": "execute_result",
          "data": {
            "text/plain": [
              "256"
            ]
          },
          "metadata": {},
          "execution_count": 14
        }
      ]
    },
    {
      "cell_type": "code",
      "source": [
        "a=a>>1\n",
        "a"
      ],
      "metadata": {
        "colab": {
          "base_uri": "https://localhost:8080/"
        },
        "id": "f2_98OTFkWmB",
        "outputId": "911e8d16-66f3-4444-8acc-615cc7277357"
      },
      "execution_count": 15,
      "outputs": [
        {
          "output_type": "execute_result",
          "data": {
            "text/plain": [
              "512"
            ]
          },
          "metadata": {},
          "execution_count": 15
        }
      ]
    },
    {
      "cell_type": "code",
      "source": [
        "a=a>>1\n",
        "a"
      ],
      "metadata": {
        "colab": {
          "base_uri": "https://localhost:8080/"
        },
        "id": "QUTxgykikZqc",
        "outputId": "10805b7d-6700-4ab8-eb35-38d91010ad74"
      },
      "execution_count": 16,
      "outputs": [
        {
          "output_type": "execute_result",
          "data": {
            "text/plain": [
              "256"
            ]
          },
          "metadata": {},
          "execution_count": 16
        }
      ]
    },
    {
      "cell_type": "code",
      "source": [
        "a=1\n",
        "a<<1"
      ],
      "metadata": {
        "colab": {
          "base_uri": "https://localhost:8080/"
        },
        "id": "S5njbwNtkcgo",
        "outputId": "d9945dee-7d01-4647-c7df-cc8ff1e4200b"
      },
      "execution_count": 17,
      "outputs": [
        {
          "output_type": "execute_result",
          "data": {
            "text/plain": [
              "2"
            ]
          },
          "metadata": {},
          "execution_count": 17
        }
      ]
    },
    {
      "cell_type": "code",
      "source": [
        "a=a<<1"
      ],
      "metadata": {
        "id": "E0lm8yDvkfCL"
      },
      "execution_count": 18,
      "outputs": []
    },
    {
      "cell_type": "code",
      "source": [
        "a"
      ],
      "metadata": {
        "colab": {
          "base_uri": "https://localhost:8080/"
        },
        "id": "qCkKpwijkgos",
        "outputId": "e825efd6-3933-4567-d7df-d40c933917b2"
      },
      "execution_count": 19,
      "outputs": [
        {
          "output_type": "execute_result",
          "data": {
            "text/plain": [
              "2"
            ]
          },
          "metadata": {},
          "execution_count": 19
        }
      ]
    },
    {
      "cell_type": "code",
      "source": [
        "a=a<<1\n",
        "a=a<<1\n",
        "a"
      ],
      "metadata": {
        "colab": {
          "base_uri": "https://localhost:8080/"
        },
        "id": "t0Q0qSDAkhar",
        "outputId": "047b4155-fa22-4ef0-e7c9-295a6c98117b"
      },
      "execution_count": 20,
      "outputs": [
        {
          "output_type": "execute_result",
          "data": {
            "text/plain": [
              "8"
            ]
          },
          "metadata": {},
          "execution_count": 20
        }
      ]
    },
    {
      "cell_type": "code",
      "source": [
        "name=input('이름을 입력하세요.:')\n",
        "print('이름:',name)\n",
        "age = int(input('나이를 입력하세요:'))\n",
        "print('10년 후 나이:',age+10)"
      ],
      "metadata": {
        "colab": {
          "base_uri": "https://localhost:8080/"
        },
        "id": "lfpqBOgvkl6W",
        "outputId": "b7bfeabe-2914-4b9f-8374-f565afdfb6b3"
      },
      "execution_count": 21,
      "outputs": [
        {
          "output_type": "stream",
          "name": "stdout",
          "text": [
            "이름을 입력하세요.:갱\n",
            "이름: 갱\n",
            "나이를 입력하세요:22\n",
            "10년 후 나이: 32\n"
          ]
        }
      ]
    },
    {
      "cell_type": "code",
      "source": [
        "#연습문제 2.8\n",
        "a=2\n",
        "n=2\n",
        "print('a    n   a**n')\n",
        "print(a,'  ',n,'   ',a**n)\n",
        "a+=1\n",
        "print(a,'  ',n,'   ',a**n)\n",
        "a+=1\n",
        "print(a,'  ',n,'   ',a**n)\n",
        "a+=1\n",
        "print(a,'  ',n,'   ',a**n)\n",
        "a+=1\n",
        "print(a,'  ',n,'   ',a**n)"
      ],
      "metadata": {
        "colab": {
          "base_uri": "https://localhost:8080/"
        },
        "id": "Tl-q2Ji9k8IN",
        "outputId": "7237ce7d-17ab-4edc-caca-8f93fb43ee0f"
      },
      "execution_count": 26,
      "outputs": [
        {
          "output_type": "stream",
          "name": "stdout",
          "text": [
            "a    n   a**n\n",
            "2    2     4\n",
            "3    2     9\n",
            "4    2     16\n",
            "5    2     25\n",
            "6    2     36\n"
          ]
        }
      ]
    },
    {
      "cell_type": "code",
      "source": [
        "n=2\n",
        "print('a    n   a**n')\n",
        "for a in range(2,7):\n",
        "  print(a,'  ',n,'   ',a**n)\n",
        "\n"
      ],
      "metadata": {
        "colab": {
          "base_uri": "https://localhost:8080/"
        },
        "id": "RgfzfNnclvLk",
        "outputId": "cd8ae52e-a2ec-4f5e-8fa3-bc92d4084d53"
      },
      "execution_count": 28,
      "outputs": [
        {
          "output_type": "stream",
          "name": "stdout",
          "text": [
            "a    n   a**n\n",
            "2    2     4\n",
            "3    2     9\n",
            "4    2     16\n",
            "5    2     25\n",
            "6    2     36\n"
          ]
        }
      ]
    },
    {
      "cell_type": "code",
      "source": [
        "#연습문제 2.9\n",
        "\n",
        "print('섭씨   화씨')\n",
        "for i in range (0,51,10):\n",
        "  fahrenheit = (9/5) * i + 32\n",
        "  print(i,' ',fahrenheit)"
      ],
      "metadata": {
        "colab": {
          "base_uri": "https://localhost:8080/"
        },
        "id": "cRXUq5oJmd5o",
        "outputId": "3c29aebc-4296-48f6-acae-17bb2fc1cd0b"
      },
      "execution_count": 31,
      "outputs": [
        {
          "output_type": "stream",
          "name": "stdout",
          "text": [
            "섭씨   화씨\n",
            "0   32.0\n",
            "10   50.0\n",
            "20   68.0\n",
            "30   86.0\n",
            "40   104.0\n",
            "50   122.0\n"
          ]
        }
      ]
    },
    {
      "cell_type": "code",
      "source": [
        "#연습문제 2.13\n",
        "pi=3.141592\n",
        "r= int(input('원의 반지름을 입력하세요:'))\n",
        "print('원의 둘레:',2*pi*r, '원의 면적:',pi*r*r)"
      ],
      "metadata": {
        "colab": {
          "base_uri": "https://localhost:8080/"
        },
        "id": "Gjv4sU12nFuB",
        "outputId": "a3d35bdb-1e9d-4fdf-e3e3-2c520aefa233"
      },
      "execution_count": 32,
      "outputs": [
        {
          "output_type": "stream",
          "name": "stdout",
          "text": [
            "원의 반지름을 입력하세요:11\n",
            "원의 둘레: 69.115024 원의 면적: 380.13263200000006\n"
          ]
        }
      ]
    },
    {
      "cell_type": "code",
      "source": [
        "#연습문제 2.14\n",
        "for i in range(2,11):\n",
        "  print(i,'의 제곱근=',i**0.5)"
      ],
      "metadata": {
        "colab": {
          "base_uri": "https://localhost:8080/"
        },
        "id": "8Bd6OYYlnr98",
        "outputId": "87a5d959-bdc6-4998-c48a-1eee3c551d70"
      },
      "execution_count": 34,
      "outputs": [
        {
          "output_type": "stream",
          "name": "stdout",
          "text": [
            "2 의 제곱근= 1.4142135623730951\n",
            "3 의 제곱근= 1.7320508075688772\n",
            "4 의 제곱근= 2.0\n",
            "5 의 제곱근= 2.23606797749979\n",
            "6 의 제곱근= 2.449489742783178\n",
            "7 의 제곱근= 2.6457513110645907\n",
            "8 의 제곱근= 2.8284271247461903\n",
            "9 의 제곱근= 3.0\n",
            "10 의 제곱근= 3.1622776601683795\n"
          ]
        }
      ]
    },
    {
      "cell_type": "code",
      "source": [
        "#연습문제 2.15\n",
        "\n",
        "a=int(input('밑변을 입력하세요:'))\n",
        "b=int(input('높이를 입력하세요:'))\n",
        "c=(a**2+b**2)**0.5\n",
        "print('빗변:',c)"
      ],
      "metadata": {
        "colab": {
          "base_uri": "https://localhost:8080/"
        },
        "id": "bEbRHox9n7R9",
        "outputId": "8a92bf77-c37c-4866-b513-2798b7680d2d"
      },
      "execution_count": 37,
      "outputs": [
        {
          "output_type": "stream",
          "name": "stdout",
          "text": [
            "밑변을 입력하세요:5\n",
            "높이를 입력하세요:12\n",
            "빗변: 13.0\n"
          ]
        }
      ]
    },
    {
      "cell_type": "code",
      "source": [
        "#연습문제 2.17\n",
        "for i in range(10):\n",
        "  print(2<<i,end=' ')"
      ],
      "metadata": {
        "colab": {
          "base_uri": "https://localhost:8080/"
        },
        "id": "kBmyV6d7oVMm",
        "outputId": "c34d5b38-6914-4902-ca60-edb61bf58022"
      },
      "execution_count": 41,
      "outputs": [
        {
          "output_type": "stream",
          "name": "stdout",
          "text": [
            "2 4 8 16 32 64 128 256 512 1024 "
          ]
        }
      ]
    },
    {
      "cell_type": "code",
      "source": [
        "#연습문제 2.18\n",
        "a=int(input('정수를 입력하세요:'))\n",
        "if a%2 ==0:\n",
        "  print('True')\n",
        "else:\n",
        "  print('False')"
      ],
      "metadata": {
        "colab": {
          "base_uri": "https://localhost:8080/"
        },
        "id": "VuD0Kzo0rCOn",
        "outputId": "24fdc26a-6183-4651-c437-b2c4d029160a"
      },
      "execution_count": 42,
      "outputs": [
        {
          "output_type": "stream",
          "name": "stdout",
          "text": [
            "정수를 입력하세요:20\n",
            "True\n"
          ]
        }
      ]
    },
    {
      "cell_type": "code",
      "source": [
        "a=int(input('정수를 입력하세요:'))\n",
        "if a%2 ==0:\n",
        "  print('True')\n",
        "else:\n",
        "  print('False')"
      ],
      "metadata": {
        "colab": {
          "base_uri": "https://localhost:8080/"
        },
        "id": "5eEovIE9sCS7",
        "outputId": "a3400007-838d-43d2-fd59-758a546f4f65"
      },
      "execution_count": 43,
      "outputs": [
        {
          "output_type": "stream",
          "name": "stdout",
          "text": [
            "정수를 입력하세요:21\n",
            "False\n"
          ]
        }
      ]
    },
    {
      "cell_type": "code",
      "source": [
        "b=int(input('정수를 입력하세요:'))\n",
        "\n",
        "\n",
        "if b%2 ==0 and 0<=b<=100:\n",
        "  print('입력된 정수는 0에서 100의 범위 안에 있는 짝수인가요? True')\n",
        "else:\n",
        "  print('입력된 정수는 0에서 100의 범위 안에 있는 짝수인가요? False')"
      ],
      "metadata": {
        "colab": {
          "base_uri": "https://localhost:8080/"
        },
        "id": "fo3N8n2wsHD4",
        "outputId": "89ac164e-7b0b-4f5e-e5cf-e4ab45a8b36e"
      },
      "execution_count": 44,
      "outputs": [
        {
          "output_type": "stream",
          "name": "stdout",
          "text": [
            "정수를 입력하세요:120\n",
            "입력된 정수는 0에서 100의 범위 안에 있는 짝수인가요? False\n"
          ]
        }
      ]
    },
    {
      "cell_type": "code",
      "source": [
        "#2.23\n",
        "c=int(input('세 자리 정수를 입력하세요:'))\n",
        "d= c//100\n",
        "e= c//10-d*10\n",
        "f=c%10\n",
        "print('백의 자리:',d,'\\n십의 자리:',e,'\\n일의 자리:',f) "
      ],
      "metadata": {
        "colab": {
          "base_uri": "https://localhost:8080/"
        },
        "id": "hRnDxwvJsqQO",
        "outputId": "df47a1b3-060d-499f-8c94-306883405a6d"
      },
      "execution_count": 46,
      "outputs": [
        {
          "output_type": "stream",
          "name": "stdout",
          "text": [
            "세 자리 정수를 입력하세요:349\n",
            "백의 자리: 3 \n",
            "십의 자리: 4 \n",
            "일의 자리: 9\n"
          ]
        }
      ]
    },
    {
      "cell_type": "code",
      "source": [
        "#2.24\n",
        "g=int(input('세 자리 정수를 입력하세요:'))\n",
        "h=g%10\n",
        "i=(g//10)%10\n",
        "j=g//100\n",
        "print(h)\n",
        "print(i)\n",
        "print(j)"
      ],
      "metadata": {
        "colab": {
          "base_uri": "https://localhost:8080/"
        },
        "id": "uhPOSLtotvXj",
        "outputId": "d0ae842e-dc3e-46a1-80ea-24fc3ebb2243"
      },
      "execution_count": 48,
      "outputs": [
        {
          "output_type": "stream",
          "name": "stdout",
          "text": [
            "세 자리 정수를 입력하세요:349\n",
            "9\n",
            "4\n",
            "3\n"
          ]
        }
      ]
    },
    {
      "cell_type": "code",
      "source": [],
      "metadata": {
        "id": "vhmB93CsuRyB"
      },
      "execution_count": null,
      "outputs": []
    }
  ]
}