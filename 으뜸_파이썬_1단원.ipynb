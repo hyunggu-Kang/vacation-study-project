{
  "nbformat": 4,
  "nbformat_minor": 0,
  "metadata": {
    "colab": {
      "provenance": [],
      "authorship_tag": "ABX9TyNG0j4IWeksB1UmGGUOnXZj",
      "include_colab_link": true
    },
    "kernelspec": {
      "name": "python3",
      "display_name": "Python 3"
    },
    "language_info": {
      "name": "python"
    }
  },
  "cells": [
    {
      "cell_type": "markdown",
      "metadata": {
        "id": "view-in-github",
        "colab_type": "text"
      },
      "source": [
        "<a href=\"https://colab.research.google.com/github/hyunggu-Kang/vacation-study-project/blob/main/%EC%9C%BC%EB%9C%B8_%ED%8C%8C%EC%9D%B4%EC%8D%AC_1%EB%8B%A8%EC%9B%90.ipynb\" target=\"_parent\"><img src=\"https://colab.research.google.com/assets/colab-badge.svg\" alt=\"Open In Colab\"/></a>"
      ]
    },
    {
      "cell_type": "code",
      "execution_count": 1,
      "metadata": {
        "colab": {
          "base_uri": "https://localhost:8080/"
        },
        "id": "oOS910hEPeG0",
        "outputId": "c4a6e6d3-45e7-4769-8b73-38ed1ada432d"
      },
      "outputs": [
        {
          "output_type": "stream",
          "name": "stdout",
          "text": [
            "Hello World!\n"
          ]
        }
      ],
      "source": [
        "#코드 1-1.\n",
        "\n",
        "print('Hello World!')"
      ]
    },
    {
      "cell_type": "code",
      "source": [
        "print('Hello World!')\n",
        "print('Hello World!')\n",
        "print('Hello World!')"
      ],
      "metadata": {
        "colab": {
          "base_uri": "https://localhost:8080/"
        },
        "id": "wEewFKhbPtx_",
        "outputId": "485d40c1-688b-4989-8d76-eedeac7f993b"
      },
      "execution_count": 2,
      "outputs": [
        {
          "output_type": "stream",
          "name": "stdout",
          "text": [
            "Hello World!\n",
            "Hello World!\n",
            "Hello World!\n"
          ]
        }
      ]
    },
    {
      "cell_type": "code",
      "source": [
        "#대화창 실습\n",
        "print('Hello World!')\n",
        "print('Hello','World!')\n",
        "print('Hello'+'World!')\n",
        "print(100)\n",
        "print(2+4)"
      ],
      "metadata": {
        "colab": {
          "base_uri": "https://localhost:8080/"
        },
        "id": "E-Z4Ne4YPxlB",
        "outputId": "a8adbf2b-022b-4233-c371-18b60f8d7a3b"
      },
      "execution_count": 5,
      "outputs": [
        {
          "output_type": "stream",
          "name": "stdout",
          "text": [
            "Hello World!\n",
            "Hello World!\n",
            "HelloWorld!\n",
            "100\n",
            "6\n"
          ]
        }
      ]
    },
    {
      "cell_type": "code",
      "source": [
        "100\n"
      ],
      "metadata": {
        "colab": {
          "base_uri": "https://localhost:8080/"
        },
        "id": "NdgCR0otQAR3",
        "outputId": "9b23a45e-d681-4d15-d132-5617abf445a3"
      },
      "execution_count": 7,
      "outputs": [
        {
          "output_type": "execute_result",
          "data": {
            "text/plain": [
              "100"
            ]
          },
          "metadata": {},
          "execution_count": 7
        }
      ]
    },
    {
      "cell_type": "code",
      "source": [
        "10+20"
      ],
      "metadata": {
        "colab": {
          "base_uri": "https://localhost:8080/"
        },
        "id": "1Od5gHfdQOv2",
        "outputId": "4299acb3-b04d-4312-f879-1c7bca1a27c1"
      },
      "execution_count": 8,
      "outputs": [
        {
          "output_type": "execute_result",
          "data": {
            "text/plain": [
              "30"
            ]
          },
          "metadata": {},
          "execution_count": 8
        }
      ]
    },
    {
      "cell_type": "code",
      "source": [
        "10/20"
      ],
      "metadata": {
        "colab": {
          "base_uri": "https://localhost:8080/"
        },
        "id": "nqbWMl7DQTVI",
        "outputId": "81dff854-bccd-402b-f171-f2b7be87dc43"
      },
      "execution_count": 10,
      "outputs": [
        {
          "output_type": "execute_result",
          "data": {
            "text/plain": [
              "0.5"
            ]
          },
          "metadata": {},
          "execution_count": 10
        }
      ]
    },
    {
      "cell_type": "code",
      "source": [
        "x=100\n",
        "y=200\n",
        "x+y"
      ],
      "metadata": {
        "colab": {
          "base_uri": "https://localhost:8080/"
        },
        "id": "X9AZqcWQQVGz",
        "outputId": "372d0235-ddd7-420d-ece2-914e8e1da2a8"
      },
      "execution_count": 11,
      "outputs": [
        {
          "output_type": "execute_result",
          "data": {
            "text/plain": [
              "300"
            ]
          },
          "metadata": {},
          "execution_count": 11
        }
      ]
    },
    {
      "cell_type": "code",
      "source": [
        "x-y"
      ],
      "metadata": {
        "colab": {
          "base_uri": "https://localhost:8080/"
        },
        "id": "E7zOkrPZQcyp",
        "outputId": "b38583d9-aa9d-4676-dffb-661986c27ec2"
      },
      "execution_count": 12,
      "outputs": [
        {
          "output_type": "execute_result",
          "data": {
            "text/plain": [
              "-100"
            ]
          },
          "metadata": {},
          "execution_count": 12
        }
      ]
    },
    {
      "cell_type": "code",
      "source": [
        "x*y"
      ],
      "metadata": {
        "colab": {
          "base_uri": "https://localhost:8080/"
        },
        "id": "_e5NrmvqQd6e",
        "outputId": "a955dddb-c962-4a4e-a6ad-08f2788068ac"
      },
      "execution_count": 13,
      "outputs": [
        {
          "output_type": "execute_result",
          "data": {
            "text/plain": [
              "20000"
            ]
          },
          "metadata": {},
          "execution_count": 13
        }
      ]
    },
    {
      "cell_type": "code",
      "source": [
        "x/y"
      ],
      "metadata": {
        "colab": {
          "base_uri": "https://localhost:8080/"
        },
        "id": "iL247rNjQetW",
        "outputId": "071e18f7-d9ce-4b38-e478-9bf189efff62"
      },
      "execution_count": 14,
      "outputs": [
        {
          "output_type": "execute_result",
          "data": {
            "text/plain": [
              "0.5"
            ]
          },
          "metadata": {},
          "execution_count": 14
        }
      ]
    },
    {
      "cell_type": "code",
      "source": [
        "x**2"
      ],
      "metadata": {
        "colab": {
          "base_uri": "https://localhost:8080/"
        },
        "id": "cUqrxadNQf1m",
        "outputId": "2528b9a5-9fb8-44fb-aea7-a17295e6b731"
      },
      "execution_count": 15,
      "outputs": [
        {
          "output_type": "execute_result",
          "data": {
            "text/plain": [
              "10000"
            ]
          },
          "metadata": {},
          "execution_count": 15
        }
      ]
    },
    {
      "cell_type": "code",
      "source": [
        "x=5\n",
        "x**2"
      ],
      "metadata": {
        "colab": {
          "base_uri": "https://localhost:8080/"
        },
        "id": "ckgKnla8QhFM",
        "outputId": "b3715a92-3eaf-43ea-a099-d46211efd685"
      },
      "execution_count": 16,
      "outputs": [
        {
          "output_type": "execute_result",
          "data": {
            "text/plain": [
              "25"
            ]
          },
          "metadata": {},
          "execution_count": 16
        }
      ]
    },
    {
      "cell_type": "code",
      "source": [
        "#연습문제 1.3\n",
        "\n",
        "print(100)\n",
        "print(100+200)\n",
        "print('100+200')\n",
        "print(100,200)\n",
        "print('100', '200')\n",
        "print('100''200')\n",
        "print('Hello Python!')\n",
        "print('Hello','Python','!')\n",
        "print('**********')\n",
        "print('*' * 10)"
      ],
      "metadata": {
        "colab": {
          "base_uri": "https://localhost:8080/"
        },
        "id": "8ZqwkYm6Qw2J",
        "outputId": "0ce79e5b-ec11-4c42-b7f5-c6f32aea5427"
      },
      "execution_count": 17,
      "outputs": [
        {
          "output_type": "stream",
          "name": "stdout",
          "text": [
            "100\n",
            "300\n",
            "100+200\n",
            "100 200\n",
            "100 200\n",
            "100200\n",
            "Hello Python!\n",
            "Hello Python !\n",
            "**********\n",
            "**********\n"
          ]
        }
      ]
    },
    {
      "cell_type": "code",
      "source": [
        "#연습문제 1..5\n",
        "\n",
        "print('Welcome to Python!')\n",
        "print('Welcome to Python!')\n",
        "print('Welcome to Python!')\n",
        "print('Welcome to Python!')\n",
        "print('Welcome to Python!')"
      ],
      "metadata": {
        "colab": {
          "base_uri": "https://localhost:8080/"
        },
        "id": "afRPLKB7Wt48",
        "outputId": "7c5bb7f5-e620-4c0e-e713-02c5ad07dd8f"
      },
      "execution_count": 19,
      "outputs": [
        {
          "output_type": "stream",
          "name": "stdout",
          "text": [
            "Welcome to Python!\n",
            "Welcome to Python!\n",
            "Welcome to Python!\n",
            "Welcome to Python!\n",
            "Welcome to Python!\n"
          ]
        }
      ]
    },
    {
      "cell_type": "code",
      "source": [
        "#연습문제 1.6\n",
        "\n",
        "print('******************************** \\n안녕하세요~\\n저는 홍길동입니다.\\n대한대학교 정보통신학과 1학년입니다\\n******************************************')"
      ],
      "metadata": {
        "colab": {
          "base_uri": "https://localhost:8080/"
        },
        "id": "upGMjKxSXGC-",
        "outputId": "31c4d7ee-316f-4079-8fe6-97fad7f91320"
      },
      "execution_count": 20,
      "outputs": [
        {
          "output_type": "stream",
          "name": "stdout",
          "text": [
            "******************************** \n",
            "안녕하세요~\n",
            "저는 홍길동입니다.\n",
            "대한대학교 정보통신학과 1학년입니다\n",
            "******************************************\n"
          ]
        }
      ]
    },
    {
      "cell_type": "code",
      "source": [
        "#연습문제 1.7\n",
        "\n",
        "print('    *')\n",
        "print('   ***')\n",
        "print('  *****')\n",
        "print(' *******')"
      ],
      "metadata": {
        "colab": {
          "base_uri": "https://localhost:8080/"
        },
        "id": "CU73fcvLXWbP",
        "outputId": "46da42b9-746f-4a62-e69c-3b6098508ac1"
      },
      "execution_count": 21,
      "outputs": [
        {
          "output_type": "stream",
          "name": "stdout",
          "text": [
            "    *\n",
            "   ***\n",
            "  *****\n",
            " *******\n"
          ]
        }
      ]
    },
    {
      "cell_type": "code",
      "source": [
        "#연습문제 1.8\n",
        "\n",
        "print(' *******')\n",
        "print('  *****')\n",
        "print('   ***')\n",
        "print('    *')"
      ],
      "metadata": {
        "colab": {
          "base_uri": "https://localhost:8080/"
        },
        "id": "oxiZVwuwXyC0",
        "outputId": "699815d7-6489-4018-b02f-accaed7a1b9e"
      },
      "execution_count": 22,
      "outputs": [
        {
          "output_type": "stream",
          "name": "stdout",
          "text": [
            " *******\n",
            "  *****\n",
            "   ***\n",
            "    *\n"
          ]
        }
      ]
    },
    {
      "cell_type": "code",
      "source": [
        "#연습문제 1.9\n",
        "400-200"
      ],
      "metadata": {
        "colab": {
          "base_uri": "https://localhost:8080/"
        },
        "id": "yFlc77e2X8Fx",
        "outputId": "8755009f-e170-417a-fc51-516b9ee240e0"
      },
      "execution_count": 23,
      "outputs": [
        {
          "output_type": "execute_result",
          "data": {
            "text/plain": [
              "200"
            ]
          },
          "metadata": {},
          "execution_count": 23
        }
      ]
    },
    {
      "cell_type": "code",
      "source": [
        "#연습문제 1.10\n",
        "print('1에서 10까지의 자연수의 합:',1+2+3+4+5+6+7+8+9+10)"
      ],
      "metadata": {
        "colab": {
          "base_uri": "https://localhost:8080/"
        },
        "id": "dqTpAZ9MYApo",
        "outputId": "ab51ceab-51f1-4fea-cb79-787ea68d22da"
      },
      "execution_count": 24,
      "outputs": [
        {
          "output_type": "stream",
          "name": "stdout",
          "text": [
            "1에서 10까지의 자연수의 합: 55\n"
          ]
        }
      ]
    },
    {
      "cell_type": "code",
      "source": [
        "r=5\n",
        "pi=3.14\n",
        "print('반지름의 길이가 5인 원의 둘레:',2*r*pi)"
      ],
      "metadata": {
        "colab": {
          "base_uri": "https://localhost:8080/"
        },
        "id": "h2GUu7ScYMxX",
        "outputId": "ca7b3cda-cb67-46f6-eaf9-86c1680a0024"
      },
      "execution_count": 29,
      "outputs": [
        {
          "output_type": "stream",
          "name": "stdout",
          "text": [
            "반지름의 길이가 5인 원의 둘레: 31.400000000000002\n"
          ]
        }
      ]
    },
    {
      "cell_type": "code",
      "source": [
        "l=25\n",
        "print('한 변의 길이가 25인 정사각형의 둘레',l*4)\n",
        "print('한 변의 길이가 25인 정사각형의 면적',l*l)\n"
      ],
      "metadata": {
        "colab": {
          "base_uri": "https://localhost:8080/"
        },
        "id": "S2Tx0tKQYV_N",
        "outputId": "1517d071-7804-46ff-d441-3e756db9f1ac"
      },
      "execution_count": 30,
      "outputs": [
        {
          "output_type": "stream",
          "name": "stdout",
          "text": [
            "한 변의 길이가 25인 정사각형의 둘레 100\n",
            "한 변의 길이가 25인 정사각형의 면적 625\n"
          ]
        }
      ]
    },
    {
      "cell_type": "code",
      "source": [
        "h=10\n",
        "l=30\n",
        "print('높이가 10이고 밑변이 30인 직사각형의 둘레:',2*h+2*l)\n",
        "print('높이가 10이고 밑변이 30인 직사각형의 면적:',h*l)"
      ],
      "metadata": {
        "colab": {
          "base_uri": "https://localhost:8080/"
        },
        "id": "_r_U28G2Y7f8",
        "outputId": "cbb6d55b-f6dd-4c8b-804f-2386c0b7ca6f"
      },
      "execution_count": 31,
      "outputs": [
        {
          "output_type": "stream",
          "name": "stdout",
          "text": [
            "높이가 10이고 밑변이 30인 직사각형의 둘레: 80\n",
            "높이가 10이고 밑변이 30인 직사각형의 면적: 300\n"
          ]
        }
      ]
    },
    {
      "cell_type": "code",
      "source": [
        "#연습문제 1.11\n",
        "\n",
        "f=80\n",
        "t=1.5\n",
        "\n",
        "print('민수의 총 주행거리:',f*t,'km')"
      ],
      "metadata": {
        "colab": {
          "base_uri": "https://localhost:8080/"
        },
        "id": "qkiqBKNIZObW",
        "outputId": "ed1fd4eb-b765-4d82-ba7e-f18a330f3804"
      },
      "execution_count": 36,
      "outputs": [
        {
          "output_type": "stream",
          "name": "stdout",
          "text": [
            "민수의 총 주행거리: 120.0 km\n"
          ]
        }
      ]
    },
    {
      "cell_type": "code",
      "source": [],
      "metadata": {
        "id": "Z-8nIWF3ZdYy"
      },
      "execution_count": null,
      "outputs": []
    }
  ]
}